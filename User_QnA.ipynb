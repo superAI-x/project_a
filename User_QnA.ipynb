{
  "nbformat": 4,
  "nbformat_minor": 0,
  "metadata": {
    "colab": {
      "provenance": [],
      "gpuType": "T4",
      "authorship_tag": "ABX9TyNyi2kQRR+SXLBlMjKZbiZu",
      "include_colab_link": true
    },
    "kernelspec": {
      "name": "python3",
      "display_name": "Python 3"
    },
    "language_info": {
      "name": "python"
    },
    "accelerator": "GPU"
  },
  "cells": [
    {
      "cell_type": "markdown",
      "metadata": {
        "id": "view-in-github",
        "colab_type": "text"
      },
      "source": [
        "<a href=\"https://colab.research.google.com/github/superAI-x/project_a/blob/main/User_QnA.ipynb\" target=\"_parent\"><img src=\"https://colab.research.google.com/assets/colab-badge.svg\" alt=\"Open In Colab\"/></a>"
      ]
    },
    {
      "cell_type": "code",
      "source": [
        "!pip install faiss-cpu"
      ],
      "metadata": {
        "id": "P_1whAOjXI3j"
      },
      "execution_count": 19,
      "outputs": []
    },
    {
      "cell_type": "code",
      "source": [
        "!pip install wikipedia-api"
      ],
      "metadata": {
        "id": "6wcP5EvSX_t1"
      },
      "execution_count": 20,
      "outputs": []
    },
    {
      "cell_type": "code",
      "source": [
        "import torch\n",
        "from transformers import pipeline\n",
        "from sentence_transformers import SentenceTransformer\n",
        "import faiss\n",
        "import numpy as np\n",
        "import wikipediaapi\n",
        "user_agent = \"User_QnA/1.0\"\n",
        "# Load pre-trained BERT model for Question Answering\n",
        "qa_pipeline = pipeline(\"question-answering\", model=\"distilbert-base-uncased-distilled-squad\")\n",
        "\n",
        "# Load SBERT model for embedding generation\n",
        "sbert_model = SentenceTransformer(\"all-MiniLM-L6-v2\")\n",
        "\n",
        "# Function to fetch Wikipedia content\n",
        "def fetch_wikipedia_content(topic):\n",
        "    wiki_wiki = wikipediaapi.Wikipedia(user_agent=user_agent)\n",
        "    page = wiki_wiki.page(topic)\n",
        "    if page.exists():\n",
        "        return page.summary  # Return the summary as document content\n",
        "    return None\n",
        "\n",
        "# Topics to fetch from Wikipedia\n",
        "topics = [\"Plasmonics\",\"Quantum mechanics\", \"Quantum computing\", \"Machine learning\", \"Graphene\", \"Multiferroics\", \"Ferromagnetism\"]\n",
        "documents = []\n",
        "\n",
        "# Fetch Wikipedia summaries\n",
        "documents = [fetch_wikipedia_content(topic) for topic in topics if fetch_wikipedia_content(topic)]\n",
        "\n",
        "# Encode documents into embeddings\n",
        "doc_embeddings = sbert_model.encode(documents)\n",
        "\n",
        "dim = doc_embeddings.shape[1]  # Dimension of embeddings\n",
        "index = faiss.IndexFlatL2(dim)  # L2 distance-based FAISS index\n",
        "index.add(np.array(doc_embeddings))  # Add document embeddings to FAISS\n",
        "\n",
        "def retrieve_most_relevant_doc(question, docs, model, index):\n",
        "    question_embedding = model.encode([question])\n",
        "    _, best_doc_index = index.search(np.array(question_embedding), 1)  # Retrieve top match\n",
        "    return docs[best_doc_index[0][0]]\n",
        "\n",
        "# Sample question\n",
        "question = \"What is Quantum mechanics?\"\n",
        "\n",
        "# Retrieve the most relevant document\n",
        "relevant_doc = retrieve_most_relevant_doc(question, documents, sbert_model, index)\n",
        "print(\"Most Relevant Document:\", relevant_doc)\n",
        "\n",
        "# Get the answer from BERT\n",
        "output = qa_pipeline(question=question, context=relevant_doc)\n",
        "print(\"Answer:\", output['answer'])\n"
      ],
      "metadata": {
        "colab": {
          "base_uri": "https://localhost:8080/"
        },
        "id": "-Ewgws5aYHfW",
        "outputId": "b38ec352-68bc-4614-a917-4dc3571f93c5"
      },
      "execution_count": 24,
      "outputs": [
        {
          "output_type": "stream",
          "name": "stderr",
          "text": [
            "Device set to use cuda:0\n"
          ]
        },
        {
          "output_type": "stream",
          "name": "stdout",
          "text": [
            "Most Relevant Document: Quantum mechanics is a fundamental theory that describes the behavior of nature at and below the scale of atoms.: 1.1  It is the foundation of all quantum physics, which includes quantum chemistry, quantum field theory, quantum technology, and quantum information science.\n",
            "Quantum mechanics can describe many systems that classical physics cannot. Classical physics can describe many aspects of nature at an ordinary (macroscopic and (optical) microscopic) scale, but is not sufficient for describing them at very small submicroscopic (atomic and subatomic) scales. Most theories in classical physics can be derived from quantum mechanics as an approximation, valid at large (macroscopic/microscopic) scale.\n",
            "Quantum systems have bound states that are quantized to discrete values of energy, momentum, angular momentum, and other quantities, in contrast to classical systems where these quantities can be measured continuously. Measurements of quantum systems show characteristics of both particles and waves (wave–particle duality), and there are limits to how accurately the value of a physical quantity can be predicted prior to its measurement, given a complete set of initial conditions (the uncertainty principle).\n",
            "Quantum mechanics arose gradually from theories to explain observations that could not be reconciled with classical physics, such as Max Planck's solution in 1900 to the black-body radiation problem, and the correspondence between energy and frequency in Albert Einstein's 1905 paper, which explained the photoelectric effect. These early attempts to understand microscopic phenomena, now known as the \"old quantum theory\", led to the full development of quantum mechanics in the mid-1920s by Niels Bohr, Erwin Schrödinger, Werner Heisenberg, Max Born, Paul Dirac and others. The modern theory is formulated in various specially developed mathematical formalisms. In one of them, a mathematical entity called the wave function provides information, in the form of probability amplitudes, about what measurements of a particle's energy, momentum, and other physical properties may yield.\n",
            "Answer: fundamental theory that describes the behavior of nature at and below the scale of atoms\n"
          ]
        }
      ]
    },
    {
      "cell_type": "code",
      "source": [],
      "metadata": {
        "id": "sZQ_yInucTCR"
      },
      "execution_count": 10,
      "outputs": []
    },
    {
      "cell_type": "code",
      "source": [],
      "metadata": {
        "id": "hK7MnYhwbHRI"
      },
      "execution_count": 14,
      "outputs": []
    }
  ]
}